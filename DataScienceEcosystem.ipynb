{
  "metadata": {
    "kernelspec": {
      "name": "python",
      "display_name": "Python (Pyodide)",
      "language": "python"
    },
    "language_info": {
      "codemirror_mode": {
        "name": "python",
        "version": 3
      },
      "file_extension": ".py",
      "mimetype": "text/x-python",
      "name": "python",
      "nbconvert_exporter": "python",
      "pygments_lexer": "ipython3",
      "version": "3.8"
    },
    "colab": {
      "provenance": []
    }
  },
  "nbformat_minor": 0,
  "nbformat": 4,
  "cells": [
    {
      "cell_type": "markdown",
      "source": [
        "# Data Science Tools and Ecosystem"
      ],
      "metadata": {
        "id": "YufCwPpwiEC-"
      }
    },
    {
      "cell_type": "markdown",
      "source": [
        "In this notebook, Data Science Tools and Ecosystem are summarized."
      ],
      "metadata": {
        "id": "64PrFIediEDA"
      }
    },
    {
      "cell_type": "markdown",
      "source": [
        "**Objectives:**\n",
        "* List popular languages for Data Science\n",
        "* List of commonly used libraries used by Data Scientists.\n",
        "* Arithematic Evaluation of Expressions"
      ],
      "metadata": {
        "id": "NtUn_gkZiEDB"
      }
    },
    {
      "cell_type": "markdown",
      "source": [
        "Some of the popular languages that Data Scientists use are:\n",
        "1. Python\n",
        "2. Julia\n",
        "3. SQL\n",
        "4. Java\n",
        "5. R\n",
        "6. Scala\n",
        "7. JavaScript.\n",
        "8. Ruby"
      ],
      "metadata": {
        "id": "dmrrWUU1iEDB"
      }
    },
    {
      "cell_type": "markdown",
      "source": [
        "Some of the commonly used libraries used by Data Scientists include:\n",
        "1. TensorFlow\n",
        "2. NumPy\n",
        "3. Pandas\n",
        "4. Keras"
      ],
      "metadata": {
        "id": "5wFUlgn8iEDC"
      }
    },
    {
      "cell_type": "markdown",
      "source": [
        "| Data Science Tools |\n",
        "| :- |\n",
        "| Apache Spark |\n",
        "| BigML |\n",
        "| SAS |"
      ],
      "metadata": {
        "id": "Dc2Pk_TWiEDC"
      }
    },
    {
      "cell_type": "markdown",
      "source": [
        "### Below are a few examples of evaluating arithmetic expressions in Python"
      ],
      "metadata": {
        "id": "99mVl3b5iEDC"
      }
    },
    {
      "cell_type": "code",
      "source": [
        "#This a simple arithmetic expression to mutiply then add integers\n",
        "(3*4)+5"
      ],
      "metadata": {
        "trusted": true,
        "id": "vgsXyr2UiEDD",
        "outputId": "27890c2e-6f92-4db8-d55a-d7c232e4aaf0"
      },
      "outputs": [
        {
          "execution_count": 8,
          "output_type": "execute_result",
          "data": {
            "text/plain": "17"
          },
          "metadata": {}
        }
      ],
      "execution_count": null
    },
    {
      "cell_type": "code",
      "source": [
        "#This will convert 200 minutes to hours by diving by 60\n",
        "minutes=200\n",
        "hours=200/60\n",
        "print(hours)"
      ],
      "metadata": {
        "trusted": true,
        "id": "t8NUHNbQiEDE",
        "outputId": "734ef1fc-3a5d-43c6-f105-7c93f64ad322"
      },
      "outputs": [
        {
          "name": "stdout",
          "text": "3.3333333333333335\n",
          "output_type": "stream"
        }
      ],
      "execution_count": null
    },
    {
      "cell_type": "markdown",
      "source": [
        "## Author\n",
        "Roshan C"
      ],
      "metadata": {
        "id": "5JwiDEEdiEDF"
      }
    },
    {
      "cell_type": "code",
      "source": [],
      "metadata": {
        "trusted": true,
        "id": "Ga1TY3OZiEDF"
      },
      "outputs": [],
      "execution_count": null
    }
  ]
}